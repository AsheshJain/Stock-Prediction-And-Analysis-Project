{
 "cells": [
  {
   "cell_type": "markdown",
   "id": "0f2228e1",
   "metadata": {},
   "source": [
    "# Importing All Useful Modules"
   ]
  },
  {
   "cell_type": "code",
   "execution_count": 1,
   "id": "fcfc12ae",
   "metadata": {},
   "outputs": [
    {
     "name": "stderr",
     "output_type": "stream",
     "text": [
      "Using TensorFlow backend.\n"
     ]
    }
   ],
   "source": [
    "import pandas as pd\n",
    "import numpy as np\n",
    "\n",
    "import matplotlib.pyplot as plt\n",
    "get_ipython().run_line_magic('matplotlib', 'inline')\n",
    "\n",
    "from matplotlib.pylab import rcParams\n",
    "rcParams['figure.figsize']=20,10\n",
    "\n",
    "from sklearn.preprocessing import MinMaxScaler\n",
    "scaler=MinMaxScaler(feature_range=(0,1))\n",
    "\n",
    "from keras.models import Sequential\n",
    "from keras.layers import LSTM,Dropout,Dense"
   ]
  },
  {
   "cell_type": "markdown",
   "id": "1e6f5530",
   "metadata": {},
   "source": [
    "# Let's Load Dataset And Do Some EDA And Data Cleaning"
   ]
  },
  {
   "cell_type": "code",
   "execution_count": 3,
   "id": "a011bd67",
   "metadata": {},
   "outputs": [
    {
     "data": {
      "text/html": [
       "<div>\n",
       "<style scoped>\n",
       "    .dataframe tbody tr th:only-of-type {\n",
       "        vertical-align: middle;\n",
       "    }\n",
       "\n",
       "    .dataframe tbody tr th {\n",
       "        vertical-align: top;\n",
       "    }\n",
       "\n",
       "    .dataframe thead th {\n",
       "        text-align: right;\n",
       "    }\n",
       "</style>\n",
       "<table border=\"1\" class=\"dataframe\">\n",
       "  <thead>\n",
       "    <tr style=\"text-align: right;\">\n",
       "      <th></th>\n",
       "      <th>Date</th>\n",
       "      <th>Symbol</th>\n",
       "      <th>Series</th>\n",
       "      <th>Prev Close</th>\n",
       "      <th>Open</th>\n",
       "      <th>High</th>\n",
       "      <th>Low</th>\n",
       "      <th>Last</th>\n",
       "      <th>Close</th>\n",
       "      <th>VWAP</th>\n",
       "      <th>Volume</th>\n",
       "      <th>Turnover</th>\n",
       "      <th>Trades</th>\n",
       "      <th>Deliverable Volume</th>\n",
       "      <th>%Deliverble</th>\n",
       "    </tr>\n",
       "    <tr>\n",
       "      <th>Date</th>\n",
       "      <th></th>\n",
       "      <th></th>\n",
       "      <th></th>\n",
       "      <th></th>\n",
       "      <th></th>\n",
       "      <th></th>\n",
       "      <th></th>\n",
       "      <th></th>\n",
       "      <th></th>\n",
       "      <th></th>\n",
       "      <th></th>\n",
       "      <th></th>\n",
       "      <th></th>\n",
       "      <th></th>\n",
       "      <th></th>\n",
       "    </tr>\n",
       "  </thead>\n",
       "  <tbody>\n",
       "    <tr>\n",
       "      <th>2000-01-03</th>\n",
       "      <td>2000-01-03</td>\n",
       "      <td>ASIANPAINT</td>\n",
       "      <td>EQ</td>\n",
       "      <td>361.20</td>\n",
       "      <td>370.0</td>\n",
       "      <td>390.0</td>\n",
       "      <td>370.0</td>\n",
       "      <td>385.0</td>\n",
       "      <td>381.65</td>\n",
       "      <td>380.54</td>\n",
       "      <td>3318</td>\n",
       "      <td>1.262617e+11</td>\n",
       "      <td>NaN</td>\n",
       "      <td>NaN</td>\n",
       "      <td>NaN</td>\n",
       "    </tr>\n",
       "    <tr>\n",
       "      <th>2000-01-04</th>\n",
       "      <td>2000-01-04</td>\n",
       "      <td>ASIANPAINT</td>\n",
       "      <td>EQ</td>\n",
       "      <td>381.65</td>\n",
       "      <td>380.0</td>\n",
       "      <td>392.0</td>\n",
       "      <td>375.0</td>\n",
       "      <td>390.0</td>\n",
       "      <td>385.55</td>\n",
       "      <td>383.50</td>\n",
       "      <td>4818</td>\n",
       "      <td>1.847699e+11</td>\n",
       "      <td>NaN</td>\n",
       "      <td>NaN</td>\n",
       "      <td>NaN</td>\n",
       "    </tr>\n",
       "    <tr>\n",
       "      <th>2000-01-05</th>\n",
       "      <td>2000-01-05</td>\n",
       "      <td>ASIANPAINT</td>\n",
       "      <td>EQ</td>\n",
       "      <td>385.55</td>\n",
       "      <td>371.5</td>\n",
       "      <td>390.0</td>\n",
       "      <td>371.5</td>\n",
       "      <td>383.0</td>\n",
       "      <td>383.00</td>\n",
       "      <td>379.81</td>\n",
       "      <td>2628</td>\n",
       "      <td>9.981384e+10</td>\n",
       "      <td>NaN</td>\n",
       "      <td>NaN</td>\n",
       "      <td>NaN</td>\n",
       "    </tr>\n",
       "    <tr>\n",
       "      <th>2000-01-06</th>\n",
       "      <td>2000-01-06</td>\n",
       "      <td>ASIANPAINT</td>\n",
       "      <td>EQ</td>\n",
       "      <td>383.00</td>\n",
       "      <td>384.9</td>\n",
       "      <td>384.9</td>\n",
       "      <td>374.5</td>\n",
       "      <td>375.1</td>\n",
       "      <td>377.50</td>\n",
       "      <td>379.88</td>\n",
       "      <td>3354</td>\n",
       "      <td>1.274114e+11</td>\n",
       "      <td>NaN</td>\n",
       "      <td>NaN</td>\n",
       "      <td>NaN</td>\n",
       "    </tr>\n",
       "    <tr>\n",
       "      <th>2000-01-07</th>\n",
       "      <td>2000-01-07</td>\n",
       "      <td>ASIANPAINT</td>\n",
       "      <td>EQ</td>\n",
       "      <td>377.50</td>\n",
       "      <td>376.0</td>\n",
       "      <td>390.0</td>\n",
       "      <td>370.0</td>\n",
       "      <td>389.0</td>\n",
       "      <td>385.70</td>\n",
       "      <td>383.38</td>\n",
       "      <td>9589</td>\n",
       "      <td>3.676275e+11</td>\n",
       "      <td>NaN</td>\n",
       "      <td>NaN</td>\n",
       "      <td>NaN</td>\n",
       "    </tr>\n",
       "  </tbody>\n",
       "</table>\n",
       "</div>"
      ],
      "text/plain": [
       "                 Date      Symbol Series  Prev Close   Open   High    Low  \\\n",
       "Date                                                                        \n",
       "2000-01-03 2000-01-03  ASIANPAINT     EQ      361.20  370.0  390.0  370.0   \n",
       "2000-01-04 2000-01-04  ASIANPAINT     EQ      381.65  380.0  392.0  375.0   \n",
       "2000-01-05 2000-01-05  ASIANPAINT     EQ      385.55  371.5  390.0  371.5   \n",
       "2000-01-06 2000-01-06  ASIANPAINT     EQ      383.00  384.9  384.9  374.5   \n",
       "2000-01-07 2000-01-07  ASIANPAINT     EQ      377.50  376.0  390.0  370.0   \n",
       "\n",
       "             Last   Close    VWAP  Volume      Turnover  Trades  \\\n",
       "Date                                                              \n",
       "2000-01-03  385.0  381.65  380.54    3318  1.262617e+11     NaN   \n",
       "2000-01-04  390.0  385.55  383.50    4818  1.847699e+11     NaN   \n",
       "2000-01-05  383.0  383.00  379.81    2628  9.981384e+10     NaN   \n",
       "2000-01-06  375.1  377.50  379.88    3354  1.274114e+11     NaN   \n",
       "2000-01-07  389.0  385.70  383.38    9589  3.676275e+11     NaN   \n",
       "\n",
       "            Deliverable Volume  %Deliverble  \n",
       "Date                                         \n",
       "2000-01-03                 NaN          NaN  \n",
       "2000-01-04                 NaN          NaN  \n",
       "2000-01-05                 NaN          NaN  \n",
       "2000-01-06                 NaN          NaN  \n",
       "2000-01-07                 NaN          NaN  "
      ]
     },
     "execution_count": 3,
     "metadata": {},
     "output_type": "execute_result"
    }
   ],
   "source": [
    "df=pd.read_csv('https://github.com/AsheshJain/Stock-Prediction-Project-Files/blob/cdf73e729bad36c1ed5059649a6ece7c1111d2d1/Data%20Sets/ASIANPAINT.csv?raw=true')\n",
    "df[\"Date\"]=pd.to_datetime(df.Date,format=\"%Y-%m-%d\")\n",
    "df.index=df['Date']\n",
    "df.head()"
   ]
  },
  {
   "cell_type": "code",
   "execution_count": 6,
   "id": "497b6a81",
   "metadata": {},
   "outputs": [
    {
     "data": {
      "image/png": "[encoded data removed]",
      "text/plain": [
       "<Figure size 1080x576 with 1 Axes>"
      ]
     },
     "metadata": {
      "needs_background": "light"
     },
     "output_type": "display_data"
    }
   ],
   "source": [
    "plt.figure(figsize=(15,8))\n",
    "plt.title(\"Closing Price Analysis\",fontsize=25)\n",
    "plt.xlabel(\"Years\",fontsize=15)\n",
    "plt.ylabel(\"Price\",fontsize=15)\n",
    "plt.plot(df[\"Close\"],label='Close Price history')\n",
    "plt.legend()\n",
    "plt.show()"
   ]
  },
  {
   "cell_type": "code",
   "execution_count": 24,
   "id": "75028eb8",
   "metadata": {},
   "outputs": [
    {
     "data": {
      "text/plain": [
       "Close    5204\n",
       "dtype: int64"
      ]
     },
     "execution_count": 24,
     "metadata": {},
     "output_type": "execute_result"
    }
   ],
   "source": [
    "data=df.sort_index(ascending=True,axis=0)\n",
    "new_dataset=pd.DataFrame(index=range(0,len(df)),columns=['Date','Close'])\n",
    "for i in range(0,len(data)):\n",
    "    new_dataset[\"Date\"][i]=data['Date'][i]\n",
    "    new_dataset[\"Close\"][i]=data[\"Close\"][i]\n",
    "    \n",
    "\n",
    "new_dataset.index=new_dataset.Date\n",
    "new_dataset.drop(\"Date\",axis=1,inplace=True)\n",
    "new_dataset.count()"
   ]
  },
  {
   "cell_type": "markdown",
   "id": "3bf20a44",
   "metadata": {},
   "source": [
    "### Splitting Data into Training And Validation DataSet"
   ]
  },
  {
   "cell_type": "code",
   "execution_count": 41,
   "id": "07d1dfef",
   "metadata": {},
   "outputs": [
    {
     "name": "stdout",
     "output_type": "stream",
     "text": [
      "[[0.03416394]\n",
      " [0.03494358]\n",
      " [0.03443382]\n",
      " ...\n",
      " [0.38852739]\n",
      " [0.3887273 ]\n",
      " [0.40072166]]\n"
     ]
    },
    {
     "data": {
      "text/plain": [
       "3440"
      ]
     },
     "execution_count": 41,
     "metadata": {},
     "output_type": "execute_result"
    }
   ],
   "source": [
    "final_dataset=new_dataset.values\n",
    "\n",
    "train_data=final_dataset[0:3500,:]\n",
    "valid_data=final_dataset[3500:,:]\n",
    "len(train_data),len(valid_data)\n",
    "\n",
    "# Scaling The Values in range(0,1) as per as out Model Requirement\n",
    "\n",
    "scaler=MinMaxScaler(feature_range=(0,1))\n",
    "scaled_data=scaler.fit_transform(final_dataset)\n",
    "\n",
    "print(scaled_data)\n",
    "\n",
    "x_train_data,y_train_data=[],[]\n",
    "\n",
    "# Here we are taking Time-Stamp as 60 days and them making the x_train and y_train data\n",
    "\n",
    "for i in range(60,len(train_data)):\n",
    "    x_train_data.append(scaled_data[i-60:i,0])\n",
    "    y_train_data.append(scaled_data[i,0])\n",
    "    \n",
    "x_train_data,y_train_data=np.array(x_train_data),np.array(y_train_data)\n",
    "\n",
    "# Here we are making the input x_train in 3 dimension to fit it into out LSTM Model\n",
    "\n",
    "x_train_data=np.reshape(x_train_data,(x_train_data.shape[0],x_train_data.shape[1],1))\n",
    "\n",
    "len(x_train_data)\n"
   ]
  },
  {
   "cell_type": "markdown",
   "id": "abd5533c",
   "metadata": {},
   "source": [
    "# Model Building , Testing And Saving The Model"
   ]
  },
  {
   "cell_type": "code",
   "execution_count": 44,
   "id": "e329afc7",
   "metadata": {},
   "outputs": [
    {
     "name": "stdout",
     "output_type": "stream",
     "text": [
      "Model: \"sequential_4\"\n",
      "_________________________________________________________________\n",
      "Layer (type)                 Output Shape              Param #   \n",
      "=================================================================\n",
      "lstm_6 (LSTM)                (None, 60, 50)            10400     \n",
      "_________________________________________________________________\n",
      "lstm_7 (LSTM)                (None, 60, 50)            20200     \n",
      "_________________________________________________________________\n",
      "lstm_8 (LSTM)                (None, 50)                20200     \n",
      "_________________________________________________________________\n",
      "dense_3 (Dense)              (None, 1)                 51        \n",
      "=================================================================\n",
      "Total params: 50,851\n",
      "Trainable params: 50,851\n",
      "Non-trainable params: 0\n",
      "_________________________________________________________________\n"
     ]
    }
   ],
   "source": [
    "# Stack LSTM Model\n",
    "\n",
    "lstm_model=Sequential()\n",
    "lstm_model.add(LSTM(units=50,return_sequences=True,input_shape=(x_train_data.shape[1],1)))\n",
    "lstm_model.add(LSTM(units=50,return_sequences=True))\n",
    "lstm_model.add(LSTM(units=50))\n",
    "lstm_model.add(Dense(1))\n",
    "\n",
    "lstm_model.compile(loss='mean_squared_error',optimizer='adam')\n",
    "lstm_model.summary()"
   ]
  },
  {
   "cell_type": "code",
   "execution_count": 68,
   "id": "35eac87f",
   "metadata": {},
   "outputs": [
    {
     "name": "stdout",
     "output_type": "stream",
     "text": [
      "Epoch 1/100\n",
      "3440/3440 [==============================] - 31s 9ms/step - loss: 0.0016\n",
      "Epoch 2/100\n",
      "3440/3440 [==============================] - 32s 9ms/step - loss: 0.0017\n",
      "Epoch 3/100\n",
      "3440/3440 [==============================] - 38s 11ms/step - loss: 0.0014\n",
      "Epoch 4/100\n",
      "3440/3440 [==============================] - 37s 11ms/step - loss: 0.0013\n",
      "Epoch 5/100\n",
      "3440/3440 [==============================] - 34s 10ms/step - loss: 0.0011\n",
      "Epoch 6/100\n",
      "3440/3440 [==============================] - 36s 11ms/step - loss: 0.0010\n",
      "Epoch 7/100\n",
      "3440/3440 [==============================] - 33s 10ms/step - loss: 8.3092e-04\n",
      "Epoch 8/100\n",
      "3440/3440 [==============================] - 32s 9ms/step - loss: 8.6016e-04\n",
      "Epoch 9/100\n",
      "3440/3440 [==============================] - 34s 10ms/step - loss: 8.2455e-04\n",
      "Epoch 10/100\n",
      "3440/3440 [==============================] - 51s 15ms/step - loss: 6.8883e-04\n",
      "Epoch 11/100\n",
      "3440/3440 [==============================] - 45s 13ms/step - loss: 6.9924e-04\n",
      "Epoch 12/100\n",
      "3440/3440 [==============================] - 32s 9ms/step - loss: 6.8734e-04\n",
      "Epoch 13/100\n",
      "3440/3440 [==============================] - 31s 9ms/step - loss: 6.5229e-04\n",
      "Epoch 14/100\n",
      "3440/3440 [==============================] - 32s 9ms/step - loss: 5.5740e-04\n",
      "Epoch 15/100\n",
      "3440/3440 [==============================] - 34s 10ms/step - loss: 5.7765e-04\n",
      "Epoch 16/100\n",
      "3440/3440 [==============================] - 33s 10ms/step - loss: 5.4122e-04\n",
      "Epoch 17/100\n",
      "3440/3440 [==============================] - 30s 9ms/step - loss: 4.7211e-04\n",
      "Epoch 18/100\n",
      "3440/3440 [==============================] - 31s 9ms/step - loss: 5.7508e-04\n",
      "Epoch 19/100\n",
      "3440/3440 [==============================] - 32s 9ms/step - loss: 7.6268e-04\n",
      "Epoch 20/100\n",
      "3440/3440 [==============================] - 32s 9ms/step - loss: 6.0400e-04\n",
      "Epoch 21/100\n",
      "3440/3440 [==============================] - 32s 9ms/step - loss: 4.0976e-04\n",
      "Epoch 22/100\n",
      "3440/3440 [==============================] - 32s 9ms/step - loss: 5.1709e-04\n",
      "Epoch 23/100\n",
      "3440/3440 [==============================] - 33s 10ms/step - loss: 4.6080e-04\n",
      "Epoch 24/100\n",
      "3440/3440 [==============================] - 33s 10ms/step - loss: 4.2522e-04\n",
      "Epoch 25/100\n",
      "3440/3440 [==============================] - 34s 10ms/step - loss: 4.2358e-04\n",
      "Epoch 26/100\n",
      "3440/3440 [==============================] - 36s 11ms/step - loss: 4.5180e-04\n",
      "Epoch 27/100\n",
      "3440/3440 [==============================] - 34s 10ms/step - loss: 4.8602e-04\n",
      "Epoch 28/100\n",
      "3440/3440 [==============================] - 35s 10ms/step - loss: 3.9621e-04\n",
      "Epoch 29/100\n",
      "3440/3440 [==============================] - 35s 10ms/step - loss: 4.0279e-04\n",
      "Epoch 30/100\n",
      "3440/3440 [==============================] - 35s 10ms/step - loss: 4.0139e-04\n",
      "Epoch 31/100\n",
      "3440/3440 [==============================] - 35s 10ms/step - loss: 3.6252e-04\n",
      "Epoch 32/100\n",
      "3440/3440 [==============================] - 36s 11ms/step - loss: 5.1795e-04\n",
      "Epoch 33/100\n",
      "3440/3440 [==============================] - 36s 11ms/step - loss: 3.8410e-04\n",
      "Epoch 34/100\n",
      "3440/3440 [==============================] - 36s 11ms/step - loss: 4.0502e-04\n",
      "Epoch 35/100\n",
      "3440/3440 [==============================] - 443s 129ms/step - loss: 3.6753e-04\n",
      "Epoch 36/100\n",
      "3440/3440 [==============================] - 33s 10ms/step - loss: 3.8211e-04\n",
      "Epoch 37/100\n",
      "3440/3440 [==============================] - 29s 9ms/step - loss: 4.1243e-04\n",
      "Epoch 38/100\n",
      "3440/3440 [==============================] - 29s 9ms/step - loss: 3.6122e-04\n",
      "Epoch 39/100\n",
      "3440/3440 [==============================] - 30s 9ms/step - loss: 3.7242e-04\n",
      "Epoch 40/100\n",
      "3440/3440 [==============================] - 31s 9ms/step - loss: 3.5754e-04\n",
      "Epoch 41/100\n",
      "3440/3440 [==============================] - 32s 9ms/step - loss: 3.1587e-04\n",
      "Epoch 42/100\n",
      "3440/3440 [==============================] - 33s 10ms/step - loss: 4.3965e-04\n",
      "Epoch 43/100\n",
      "3440/3440 [==============================] - 35s 10ms/step - loss: 3.2438e-04\n",
      "Epoch 44/100\n",
      "3440/3440 [==============================] - 36s 10ms/step - loss: 3.3818e-04\n",
      "Epoch 45/100\n",
      "3440/3440 [==============================] - 37s 11ms/step - loss: 3.7946e-04\n",
      "Epoch 46/100\n",
      "3440/3440 [==============================] - 38s 11ms/step - loss: 3.6651e-04\n",
      "Epoch 47/100\n",
      "3440/3440 [==============================] - 39s 11ms/step - loss: 4.0150e-04\n",
      "Epoch 48/100\n",
      "3440/3440 [==============================] - 39s 11ms/step - loss: 3.2282e-04\n",
      "Epoch 49/100\n",
      "3440/3440 [==============================] - 40s 12ms/step - loss: 3.3868e-04\n",
      "Epoch 50/100\n",
      "3440/3440 [==============================] - 41s 12ms/step - loss: 3.9085e-04\n",
      "Epoch 51/100\n",
      "3440/3440 [==============================] - 41s 12ms/step - loss: 3.6887e-04\n",
      "Epoch 52/100\n",
      "3440/3440 [==============================] - 42s 12ms/step - loss: 3.3340e-04\n",
      "Epoch 53/100\n",
      "3440/3440 [==============================] - 43s 12ms/step - loss: 3.4729e-04\n",
      "Epoch 54/100\n",
      "3440/3440 [==============================] - 43s 13ms/step - loss: 3.5736e-04\n",
      "Epoch 55/100\n",
      "3440/3440 [==============================] - 44s 13ms/step - loss: 3.5946e-04\n",
      "Epoch 56/100\n",
      "3440/3440 [==============================] - 43s 13ms/step - loss: 3.3231e-04\n",
      "Epoch 57/100\n",
      "3440/3440 [==============================] - 44s 13ms/step - loss: 3.4854e-04\n",
      "Epoch 58/100\n",
      "3440/3440 [==============================] - 48s 14ms/step - loss: 4.0664e-04\n",
      "Epoch 59/100\n",
      "3440/3440 [==============================] - 45s 13ms/step - loss: 3.2978e-04\n",
      "Epoch 60/100\n",
      "3440/3440 [==============================] - 49s 14ms/step - loss: 3.5469e-04\n",
      "Epoch 61/100\n",
      "3440/3440 [==============================] - 45s 13ms/step - loss: 3.1409e-04\n",
      "Epoch 62/100\n",
      "3440/3440 [==============================] - 44s 13ms/step - loss: 3.4145e-04\n",
      "Epoch 63/100\n",
      "3440/3440 [==============================] - 45s 13ms/step - loss: 3.3015e-04\n",
      "Epoch 64/100\n",
      "3440/3440 [==============================] - 44s 13ms/step - loss: 3.6259e-04\n",
      "Epoch 65/100\n",
      "3440/3440 [==============================] - 44s 13ms/step - loss: 3.2720e-04\n",
      "Epoch 66/100\n",
      "3440/3440 [==============================] - 46s 13ms/step - loss: 3.3892e-04\n",
      "Epoch 67/100\n",
      "3440/3440 [==============================] - 48s 14ms/step - loss: 3.2484e-04\n",
      "Epoch 68/100\n",
      "3440/3440 [==============================] - 45s 13ms/step - loss: 3.5370e-04\n",
      "Epoch 69/100\n",
      "3440/3440 [==============================] - 44s 13ms/step - loss: 3.3554e-04\n",
      "Epoch 70/100\n",
      "3440/3440 [==============================] - 44s 13ms/step - loss: 3.7447e-04\n",
      "Epoch 71/100\n",
      "3440/3440 [==============================] - 45s 13ms/step - loss: 3.3593e-04\n",
      "Epoch 72/100\n",
      "3440/3440 [==============================] - 44s 13ms/step - loss: 3.4783e-04\n",
      "Epoch 73/100\n",
      "3440/3440 [==============================] - 44s 13ms/step - loss: 3.1793e-04\n",
      "Epoch 74/100\n",
      "3440/3440 [==============================] - 44s 13ms/step - loss: 3.3510e-04\n",
      "Epoch 75/100\n",
      "3440/3440 [==============================] - 44s 13ms/step - loss: 3.1620e-04\n",
      "Epoch 76/100\n",
      "3440/3440 [==============================] - 44s 13ms/step - loss: 3.3346e-04\n",
      "Epoch 77/100\n",
      "3440/3440 [==============================] - 44s 13ms/step - loss: 2.8446e-04\n",
      "Epoch 78/100\n",
      "3440/3440 [==============================] - 44s 13ms/step - loss: 4.0467e-04\n",
      "Epoch 79/100\n",
      "3440/3440 [==============================] - 44s 13ms/step - loss: 3.3423e-04\n",
      "Epoch 80/100\n",
      "3440/3440 [==============================] - 44s 13ms/step - loss: 3.6368e-04\n",
      "Epoch 81/100\n",
      "3440/3440 [==============================] - 45s 13ms/step - loss: 3.3927e-04\n",
      "Epoch 82/100\n",
      "3440/3440 [==============================] - 925s 269ms/step - loss: 3.4846e-04\n",
      "Epoch 83/100\n",
      "3440/3440 [==============================] - 100s 29ms/step - loss: 3.1084e-04\n",
      "Epoch 84/100\n",
      "3440/3440 [==============================] - 33s 9ms/step - loss: 3.0264e-04\n",
      "Epoch 85/100\n",
      "3440/3440 [==============================] - 33s 10ms/step - loss: 3.1639e-04\n",
      "Epoch 86/100\n",
      "3440/3440 [==============================] - 30s 9ms/step - loss: 3.1414e-04\n",
      "Epoch 87/100\n",
      "3440/3440 [==============================] - 32s 9ms/step - loss: 3.3737e-04\n",
      "Epoch 88/100\n",
      "3440/3440 [==============================] - 31s 9ms/step - loss: 3.1267e-04\n",
      "Epoch 89/100\n",
      "3440/3440 [==============================] - 32s 9ms/step - loss: 3.0629e-04\n",
      "Epoch 90/100\n",
      "3440/3440 [==============================] - 33s 10ms/step - loss: 2.9821e-04\n",
      "Epoch 91/100\n",
      "3440/3440 [==============================] - 33s 10ms/step - loss: 3.3611e-04\n",
      "Epoch 92/100\n",
      "3440/3440 [==============================] - 34s 10ms/step - loss: 3.2229e-04\n",
      "Epoch 93/100\n",
      "3440/3440 [==============================] - 34s 10ms/step - loss: 3.0930e-04\n",
      "Epoch 94/100\n",
      "3440/3440 [==============================] - 35s 10ms/step - loss: 3.1660e-04\n",
      "Epoch 95/100\n",
      "3440/3440 [==============================] - 35s 10ms/step - loss: 2.8630e-04\n",
      "Epoch 96/100\n",
      "3440/3440 [==============================] - 36s 10ms/step - loss: 3.4044e-04\n",
      "Epoch 97/100\n",
      "3440/3440 [==============================] - 36s 10ms/step - loss: 3.0157e-04\n",
      "Epoch 98/100\n",
      "3440/3440 [==============================] - 36s 10ms/step - loss: 3.1882e-04\n",
      "Epoch 99/100\n",
      "3440/3440 [==============================] - 36s 10ms/step - loss: 3.0241e-04\n",
      "Epoch 100/100\n",
      "3440/3440 [==============================] - 36s 11ms/step - loss: 3.1885e-04\n"
     ]
    },
    {
     "data": {
      "text/plain": [
       "<keras.callbacks.callbacks.History at 0x7fdf6262a890>"
      ]
     },
     "execution_count": 68,
     "metadata": {},
     "output_type": "execute_result"
    }
   ],
   "source": [
    "# Training The Model\n",
    "lstm_model.fit(x_train_data,y_train_data,epochs=100,batch_size=64,verbose=1)"
   ]
  },
  {
   "cell_type": "markdown",
   "id": "6d63f3b5",
   "metadata": {},
   "source": [
    "### Testing The Model"
   ]
  },
  {
   "cell_type": "code",
   "execution_count": 69,
   "id": "90fc69bf",
   "metadata": {},
   "outputs": [
    {
     "data": {
      "text/plain": [
       "1704"
      ]
     },
     "execution_count": 69,
     "metadata": {},
     "output_type": "execute_result"
    }
   ],
   "source": [
    "inputs_data=new_dataset[len(new_dataset)-len(valid_data)-60:].values\n",
    "inputs_data=inputs_data.reshape(-1,1)\n",
    "inputs_data=scaler.transform(inputs_data)\n",
    "\n",
    "\n",
    "X_test=[]\n",
    "for i in range(60,inputs_data.shape[0]):\n",
    "    X_test.append(inputs_data[i-60:i,0])\n",
    "X_test=np.array(X_test)\n",
    "\n",
    "X_test=np.reshape(X_test,(X_test.shape[0],X_test.shape[1],1))\n",
    "closing_price=lstm_model.predict(X_test)\n",
    "closing_price=scaler.inverse_transform(closing_price)\n",
    "len(closing_price)"
   ]
  },
  {
   "cell_type": "code",
   "execution_count": 70,
   "id": "b387febf",
   "metadata": {},
   "outputs": [
    {
     "name": "stderr",
     "output_type": "stream",
     "text": [
      "/opt/anaconda3/envs/tf/lib/python3.7/site-packages/ipykernel_launcher.py:3: SettingWithCopyWarning: \n",
      "A value is trying to be set on a copy of a slice from a DataFrame.\n",
      "Try using .loc[row_indexer,col_indexer] = value instead\n",
      "\n",
      "See the caveats in the documentation: https://pandas.pydata.org/pandas-docs/stable/user_guide/indexing.html#returning-a-view-versus-a-copy\n",
      "  This is separate from the ipykernel package so we can avoid doing imports until\n"
     ]
    },
    {
     "data": {
      "image/png": "[encoded data removed]",
      "text/plain": [
       "<Figure size 1440x720 with 1 Axes>"
      ]
     },
     "metadata": {
      "needs_background": "light"
     },
     "output_type": "display_data"
    }
   ],
   "source": [
    "train_data=new_dataset[:3500]\n",
    "valid_data=new_dataset[3500:]\n",
    "valid_data['Predictions']=closing_price\n",
    "plt.title(\"Model Prediction Analysis\",fontsize=30)\n",
    "plt.plot(new_dataset[\"Close\"],label='original')\n",
    "plt.plot(valid_data[\"Predictions\"],label='Predicted')\n",
    "plt.legend()\n",
    "plt.show()"
   ]
  },
  {
   "cell_type": "markdown",
   "id": "a8233739",
   "metadata": {},
   "source": [
    "## Saving The Model For Further Use"
   ]
  },
  {
   "cell_type": "code",
   "execution_count": 71,
   "id": "4d41f279",
   "metadata": {},
   "outputs": [],
   "source": [
    "lstm_model.save(\"saved_lstm_model.h5\")"
   ]
  },
  {
   "cell_type": "code",
   "execution_count": null,
   "id": "cc29f395",
   "metadata": {},
   "outputs": [],
   "source": []
  }
 ],
 "metadata": {
  "kernelspec": {
   "display_name": "Python 3",
   "language": "python",
   "name": "python3"
  },
  "language_info": {
   "codemirror_mode": {
    "name": "ipython",
    "version": 3
   },
   "file_extension": ".py",
   "mimetype": "text/x-python",
   "name": "python",
   "nbconvert_exporter": "python",
   "pygments_lexer": "ipython3",
   "version": "3.7.10"
  }
 },
 "nbformat": 4,
 "nbformat_minor": 5
}
